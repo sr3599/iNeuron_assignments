{
  "nbformat": 4,
  "nbformat_minor": 0,
  "metadata": {
    "colab": {
      "provenance": [],
      "authorship_tag": "ABX9TyOgGvwfTKGQX2c7Rt1uZ28F",
      "include_colab_link": true
    },
    "kernelspec": {
      "name": "python3",
      "display_name": "Python 3"
    },
    "language_info": {
      "name": "python"
    }
  },
  "cells": [
    {
      "cell_type": "markdown",
      "metadata": {
        "id": "view-in-github",
        "colab_type": "text"
      },
      "source": [
        "<a href=\"https://colab.research.google.com/github/sr3599/iNeuron_assignments/blob/main/Assignment1.ipynb\" target=\"_parent\"><img src=\"https://colab.research.google.com/assets/colab-badge.svg\" alt=\"Open In Colab\"/></a>"
      ]
    },
    {
      "cell_type": "markdown",
      "source": [
        "1. In the below elements which of them are values or an expression? eg:- values can be integer or string and expressions will be mathematical operators.\n",
        "\n",
        "'*'  This is a mathematical operator , use to find products . \n",
        "\n",
        "'hello'  This is a string value.\n",
        "\n",
        "'-87.8'  This is a float value.\n",
        "\n",
        "'-' This is a mathematical operator , use for substraction .\n",
        "\n",
        "'/' This is a mathematical operator , use for division .\n",
        "\n",
        "'+' This is a mathematical operator , use for addition .\n",
        "\n",
        "'6' This is a integer value.\n"
      ],
      "metadata": {
        "id": "NHz_6zMfcAHC"
      }
    },
    {
      "cell_type": "markdown",
      "source": [
        "  2. What is the difference between string and variable?\n",
        "\n",
        "\n",
        "Ans-> Variable is somthing that can hold a value, consist of alphabets. Where as Sting is a datatype or class used to represent text type data.\n"
      ],
      "metadata": {
        "id": "FsFafCa-dds_"
      }
    },
    {
      "cell_type": "markdown",
      "source": [
        " 3. Describe three different data types.\n",
        "\n",
        "Text Type(String) eg:- 'I have 1 laptop'\n",
        "\n",
        "Numeric Type(int,float,complex) eg:- 9,  12.34, 1+2j\n",
        "\n",
        "Sequence Type(list, tupple, range) eg:- ['a', 1, 2, 'this is a list'], {1,2,'sdfg'}\n",
        "\n",
        "\n",
        "\n",
        "\n",
        "\n"
      ],
      "metadata": {
        "id": "fu3odOqrfuUg"
      }
    },
    {
      "cell_type": "markdown",
      "source": [
        "4. What is an expression made up of? What do all expressions do?\n",
        "\n",
        "Expression are made up of operators and operands. Expresions are executed to produce some meaningful value if that is valid or error if that is invalid.\n",
        "\n",
        "eg:- 3+4 is an expression and return 7 .\n",
        "\n",
        "but 3+'asdfg' this expression will throw a Type error\n"
      ],
      "metadata": {
        "id": "Tos1-TGLhW-u"
      }
    },
    {
      "cell_type": "markdown",
      "source": [
        "5. This assignment statements, like spam = 10. What is the difference between an\n",
        "expression and a statement?\n",
        "\n",
        "\n",
        "A statement is used to declare variable or displaying/pringing a variable.\n",
        "eg: A= 7, print(\"A statement\")\n",
        "\n",
        "Where the expression contains operators, operands and identifiers. \n",
        "eg:- s = 12-3"
      ],
      "metadata": {
        "id": "KaBJ4Yx1i823"
      }
    },
    {
      "cell_type": "markdown",
      "source": [
        "6. After running the following code, what does the variable bacon contain?\n",
        "bacon = 22\n",
        "bacon + 1\n",
        "\n",
        "\n",
        "The variable bacon will contain 22. As we are just appending the bacon by 1 but not updating the variable."
      ],
      "metadata": {
        "id": "yFcNosjAk4VE"
      }
    },
    {
      "cell_type": "markdown",
      "source": [
        "7. What should the values of the following two terms be?\n",
        "\n",
        "&#39;spam&#39; + &#39;spamspam&#39; \n",
        "\n",
        "&#39;spam&#39; * 3\n",
        "\n",
        "\n",
        "Ans:- 'spam'+'spamspam' = spamspamspam\n",
        "\n",
        "'spam'*3 = spamspamspam\n"
      ],
      "metadata": {
        "id": "EQ3RvDJVk--q"
      }
    },
    {
      "cell_type": "markdown",
      "source": [
        "8. Why is eggs a valid variable name while 100 is invalid?\n",
        "\n",
        "Because variable names cannot begin with a number.  Also 100 has a fixed value which cant be changed."
      ],
      "metadata": {
        "id": "_3ebKbF3mbky"
      }
    },
    {
      "cell_type": "markdown",
      "source": [
        "9. What three functions can be used to get the integer, floating-point number, or string\n",
        "version of a value?\n",
        "\n",
        "str() -- for string\n",
        "\n",
        "int() -- for integer\n",
        "\n",
        "float() -- for floating-point "
      ],
      "metadata": {
        "id": "8qLljoibmntH"
      }
    },
    {
      "cell_type": "markdown",
      "source": [
        "10. Why does this expression cause an error? How can you fix it?\n",
        "&#39;I have eaten &#39; + 99 + &#39; burritos.&#39;\n",
        "\n",
        "'I have eaten ' + 99 + ' burritos.'\n",
        "This expression causes an error because in this line 'I have eaten' and 'burritos' are strings, while 99 is treated as integer. In order to fix the error we should have convert 99 to string by encorted by single quotes('') , '99'.\n"
      ],
      "metadata": {
        "id": "35lN7X_0m_fW"
      }
    }
  ]
}